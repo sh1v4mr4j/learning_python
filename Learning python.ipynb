{
 "cells": [
  {
   "cell_type": "code",
   "execution_count": 2,
   "metadata": {},
   "outputs": [
    {
     "ename": "SyntaxError",
     "evalue": "invalid syntax (<ipython-input-2-e106b38e1a68>, line 1)",
     "output_type": "error",
     "traceback": [
      "\u001b[0;36m  File \u001b[0;32m\"<ipython-input-2-e106b38e1a68>\"\u001b[0;36m, line \u001b[0;32m1\u001b[0m\n\u001b[0;31m    def sumi(a,b,c,d)\u001b[0m\n\u001b[0m                     ^\u001b[0m\n\u001b[0;31mSyntaxError\u001b[0m\u001b[0;31m:\u001b[0m invalid syntax\n"
     ]
    }
   ],
   "source": []
  },
  {
   "cell_type": "code",
   "execution_count": null,
   "metadata": {},
   "outputs": [],
   "source": []
  },
  {
   "cell_type": "code",
   "execution_count": null,
   "metadata": {},
   "outputs": [],
   "source": []
  },
  {
   "cell_type": "code",
   "execution_count": 3,
   "metadata": {},
   "outputs": [
    {
     "name": "stdout",
     "output_type": "stream",
     "text": [
      "2\n",
      "8\n",
      "-1\n",
      "negative number\n",
      "2\n",
      "8\n",
      "3\n",
      "27\n"
     ]
    }
   ],
   "source": [
    "\n",
    "for i in range(0,4):\n",
    "    x=int(input())\n",
    "    if(x>0):\n",
    "        print(x*x*x)\n",
    "    else:\n",
    "        print(\"negative number\")\n",
    "        "
   ]
  },
  {
   "cell_type": "markdown",
   "metadata": {},
   "source": []
  },
  {
   "cell_type": "code",
   "execution_count": 9,
   "metadata": {},
   "outputs": [
    {
     "name": "stdout",
     "output_type": "stream",
     "text": [
      "enter the lower1\n",
      "enter the higher1000\n",
      "2\n",
      "3\n",
      "5\n",
      "7\n",
      "11\n",
      "13\n",
      "17\n",
      "19\n",
      "23\n",
      "29\n",
      "31\n",
      "37\n",
      "41\n",
      "43\n",
      "47\n",
      "53\n",
      "59\n",
      "61\n",
      "67\n",
      "71\n",
      "73\n",
      "79\n",
      "83\n",
      "89\n",
      "97\n",
      "101\n",
      "103\n",
      "107\n",
      "109\n",
      "113\n",
      "127\n",
      "131\n",
      "137\n",
      "139\n",
      "149\n",
      "151\n",
      "157\n",
      "163\n",
      "167\n",
      "173\n",
      "179\n",
      "181\n",
      "191\n",
      "193\n",
      "197\n",
      "199\n",
      "211\n",
      "223\n",
      "227\n",
      "229\n",
      "233\n",
      "239\n",
      "241\n",
      "251\n",
      "257\n",
      "263\n",
      "269\n",
      "271\n",
      "277\n",
      "281\n",
      "283\n",
      "293\n",
      "307\n",
      "311\n",
      "313\n",
      "317\n",
      "331\n",
      "337\n",
      "347\n",
      "349\n",
      "353\n",
      "359\n",
      "367\n",
      "373\n",
      "379\n",
      "383\n",
      "389\n",
      "397\n",
      "401\n",
      "409\n",
      "419\n",
      "421\n",
      "431\n",
      "433\n",
      "439\n",
      "443\n",
      "449\n",
      "457\n",
      "461\n",
      "463\n",
      "467\n",
      "479\n",
      "487\n",
      "491\n",
      "499\n",
      "503\n",
      "509\n",
      "521\n",
      "523\n",
      "541\n",
      "547\n",
      "557\n",
      "563\n",
      "569\n",
      "571\n",
      "577\n",
      "587\n",
      "593\n",
      "599\n",
      "601\n",
      "607\n",
      "613\n",
      "617\n",
      "619\n",
      "631\n",
      "641\n",
      "643\n",
      "647\n",
      "653\n",
      "659\n",
      "661\n",
      "673\n",
      "677\n",
      "683\n",
      "691\n",
      "701\n",
      "709\n",
      "719\n",
      "727\n",
      "733\n",
      "739\n",
      "743\n",
      "751\n",
      "757\n",
      "761\n",
      "769\n",
      "773\n",
      "787\n",
      "797\n",
      "809\n",
      "811\n",
      "821\n",
      "823\n",
      "827\n",
      "829\n",
      "839\n",
      "853\n",
      "857\n",
      "859\n",
      "863\n",
      "877\n",
      "881\n",
      "883\n",
      "887\n",
      "907\n",
      "911\n",
      "919\n",
      "929\n",
      "937\n",
      "941\n",
      "947\n",
      "953\n",
      "967\n",
      "971\n",
      "977\n",
      "983\n",
      "991\n",
      "997\n"
     ]
    }
   ],
   "source": [
    "ar=[0]*1001\n",
    "ar[0]=1\n",
    "ar[1]=1\n",
    "for i in range(2,1000):\n",
    "    if(ar[i]==0):\n",
    "        for j in range(i*i,1000,i):\n",
    "            ar[j]=1\n",
    "            \n",
    "a=int(input(\"enter the lower\"))\n",
    "b=int(input(\"enter the higher\"))\n",
    "\n",
    "\n",
    "for i in range (a,b):\n",
    "    if(ar[i]==0):\n",
    "        print (i)\n",
    "        "
   ]
  },
  {
   "cell_type": "code",
   "execution_count": 25,
   "metadata": {},
   "outputs": [
    {
     "name": "stdout",
     "output_type": "stream",
     "text": [
      "enter the value135\n",
      "3\n",
      "hello1 \n",
      "hello1 hello2 hello3 \n",
      "hello1 hello2 hello3 hello4 hello5 \n"
     ]
    }
   ],
   "source": [
    "arr=[]\n",
    "a=int(input(\"enter the value\"))\n",
    "while(a!=0):\n",
    "    arr.append(a%10)\n",
    "    a=(int)(a/10)\n",
    "\n",
    "    \n",
    "s=len(arr)\n",
    "print (s)\n",
    "for i in range(s-1,-1,-1):\n",
    "    for j in range(1,arr[i]+1):\n",
    "        print(\"hello\" +str(j),end=\" \")\n",
    "    print()   \n",
    "        \n",
    "        "
   ]
  },
  {
   "cell_type": "code",
   "execution_count": 31,
   "metadata": {},
   "outputs": [
    {
     "name": "stdout",
     "output_type": "stream",
     "text": [
      "11\n",
      "middle\n",
      "17\n"
     ]
    }
   ],
   "source": [
    "a=int(input())\n",
    "b=a\n",
    "a=a%6\n",
    "if(a==1 or a==0):\n",
    "    print(\"window seat\")\n",
    "elif(a==5 or a==2):\n",
    "    print(\"middle\")\n",
    "else:\n",
    "    print(\"side waala\")\n",
    "print(b+6)"
   ]
  },
  {
   "cell_type": "code",
   "execution_count": 29,
   "metadata": {},
   "outputs": [
    {
     "name": "stdout",
     "output_type": "stream",
     "text": [
      "334\n",
      "not palindrome\n"
     ]
    }
   ],
   "source": [
    "a=int(input())\n",
    "b=a\n",
    "r=0\n",
    "while(a!=0):\n",
    "    r=r*10 + a%10\n",
    "    a=(int)(a/10)\n",
    "if(r==b):\n",
    "    print(\"palindrome\")\n",
    "else:\n",
    "    print(\"not palindrome\")"
   ]
  },
  {
   "cell_type": "code",
   "execution_count": 35,
   "metadata": {},
   "outputs": [
    {
     "name": "stdout",
     "output_type": "stream",
     "text": [
      "1 2 3 4 5 \n",
      "  2 3 4 5 \n",
      "    3 4 5 \n",
      "      4 5 \n",
      "        5 \n"
     ]
    }
   ],
   "source": [
    "for i in range (1,6):\n",
    "    for j in range(1,i):\n",
    "        print(\" \",end=\" \")\n",
    "    for k in range(i,6):\n",
    "        print(k,end=\" \")\n",
    "    print()"
   ]
  },
  {
   "cell_type": "code",
   "execution_count": 42,
   "metadata": {},
   "outputs": [
    {
     "name": "stdout",
     "output_type": "stream",
     "text": [
      "2\n"
     ]
    }
   ],
   "source": [
    "a=[0,6,5,4,56,6,3,14,2,32]\n",
    "\n",
    "s=a[0]\n",
    "loc=0\n",
    "\n",
    "for i in range(1,10):\n",
    "    if(s>a[i]):\n",
    "        s=a[i]\n",
    "        loc=i\n",
    "a[loc]=1111111111111111111\n",
    "s=a[0]\n",
    "loc=0\n",
    "for i in range(1,len(a)):\n",
    "    if(s>a[i]):\n",
    "        s=a[i]\n",
    "        loc=i\n",
    "\n",
    "print(s)\n",
    "\n",
    "\n",
    "\n"
   ]
  },
  {
   "cell_type": "code",
   "execution_count": 46,
   "metadata": {},
   "outputs": [
    {
     "name": "stdout",
     "output_type": "stream",
     "text": [
      "enter the size dcfd\n"
     ]
    },
    {
     "ename": "ValueError",
     "evalue": "invalid literal for int() with base 10: 'dcfd'",
     "output_type": "error",
     "traceback": [
      "\u001b[0;31m---------------------------------------------------------------------------\u001b[0m",
      "\u001b[0;31mValueError\u001b[0m                                Traceback (most recent call last)",
      "\u001b[0;32m<ipython-input-46-2a8eaf9103bf>\u001b[0m in \u001b[0;36m<module>\u001b[0;34m\u001b[0m\n\u001b[1;32m      1\u001b[0m \u001b[0ma\u001b[0m\u001b[0;34m=\u001b[0m\u001b[0;34m[\u001b[0m\u001b[0;34m]\u001b[0m\u001b[0;34m\u001b[0m\u001b[0;34m\u001b[0m\u001b[0m\n\u001b[1;32m      2\u001b[0m \u001b[0mb\u001b[0m\u001b[0;34m=\u001b[0m\u001b[0;34m[\u001b[0m\u001b[0;34m]\u001b[0m\u001b[0;34m\u001b[0m\u001b[0;34m\u001b[0m\u001b[0m\n\u001b[0;32m----> 3\u001b[0;31m \u001b[0mx\u001b[0m\u001b[0;34m=\u001b[0m\u001b[0mint\u001b[0m\u001b[0;34m(\u001b[0m\u001b[0minput\u001b[0m\u001b[0;34m(\u001b[0m\u001b[0;34m\"enter the size \"\u001b[0m\u001b[0;34m)\u001b[0m\u001b[0;34m)\u001b[0m\u001b[0;34m\u001b[0m\u001b[0;34m\u001b[0m\u001b[0m\n\u001b[0m\u001b[1;32m      4\u001b[0m \u001b[0;32mfor\u001b[0m \u001b[0mi\u001b[0m \u001b[0;32min\u001b[0m \u001b[0mrange\u001b[0m\u001b[0;34m(\u001b[0m\u001b[0;36m0\u001b[0m\u001b[0;34m,\u001b[0m\u001b[0mx\u001b[0m\u001b[0;34m)\u001b[0m\u001b[0;34m:\u001b[0m\u001b[0;34m\u001b[0m\u001b[0;34m\u001b[0m\u001b[0m\n\u001b[1;32m      5\u001b[0m     \u001b[0my\u001b[0m\u001b[0;34m=\u001b[0m\u001b[0mint\u001b[0m\u001b[0;34m(\u001b[0m\u001b[0minput\u001b[0m\u001b[0;34m(\u001b[0m\u001b[0;34m\"enter value\"\u001b[0m\u001b[0;34m)\u001b[0m\u001b[0;34m)\u001b[0m\u001b[0;34m\u001b[0m\u001b[0;34m\u001b[0m\u001b[0m\n",
      "\u001b[0;31mValueError\u001b[0m: invalid literal for int() with base 10: 'dcfd'"
     ]
    }
   ],
   "source": [
    "a=[]\n",
    "b=[]\n",
    "x=int(input(\"enter the size \"))\n",
    "for i in range(0,x):\n",
    "    y=int(input(\"enter value\"))\n",
    "    a.append(y)\n",
    "ar=dict()\n",
    "\n",
    "for i in range (x-1,-1,-1):\n",
    "    if(a[i] not in ar.keys()):\n",
    "        ar[a[i]]=1\n",
    "        b.append(a[i])\n",
    "    else:hddfd\n",
    "        continue\n",
    "        \n",
    "for i in range(len(b)-1,-1,-1):\n",
    "    print(b[i],end=\" \")\n",
    "        \n",
    "        \n",
    "    \n",
    "\n",
    "\n",
    "\n",
    "    "
   ]
  },
  {
   "cell_type": "markdown",
   "metadata": {},
   "source": [
    "str=input(\"enter string\")\n",
    "\n",
    "\n",
    "\n",
    "\n"
   ]
  },
  {
   "cell_type": "code",
   "execution_count": 49,
   "metadata": {},
   "outputs": [
    {
     "name": "stdout",
     "output_type": "stream",
     "text": [
      "enter stringHapPy\n",
      "hAPpY\n"
     ]
    }
   ],
   "source": [
    "st=input(\"enter string\")\n",
    "s=\"\"\n",
    "for i in range(0,len(st)):\n",
    "    if(st[i].isupper()):\n",
    "        s=s+ st[i].lower()\n",
    "    else:\n",
    "        s=s+ st[i].upper()\n",
    "\n",
    "print(s)"
   ]
  },
  {
   "cell_type": "code",
   "execution_count": 53,
   "metadata": {},
   "outputs": [
    {
     "name": "stdout",
     "output_type": "stream",
     "text": [
      "{'name': 'Shivam', 'id': 2, 'age': 23}\n",
      "this is a doc message\n",
      "__main__\n"
     ]
    }
   ],
   "source": [
    "class Stud:\n",
    "    '''this is a doc message'''\n",
    "    def __init__(self,name,ida,age):\n",
    "        self.name=name\n",
    "        self.id=ida\n",
    "        self.age=age\n",
    "    def display(self):\n",
    "        print(self.name,\" \",self.id,\" \",self.age)\n",
    "s=Stud(\"Shivam Raj\",2,23)\n",
    "print(s.__dict__)\n",
    "print(s.__doc__)\n",
    "print(s.__module__)\n",
    "        \n",
    "        "
   ]
  },
  {
   "cell_type": "code",
   "execution_count": null,
   "metadata": {},
   "outputs": [],
   "source": []
  },
  {
   "cell_type": "code",
   "execution_count": 96,
   "metadata": {},
   "outputs": [
    {
     "name": "stdout",
     "output_type": "stream",
     "text": [
      "  1 add  x multiply 10 equal 21\n"
     ]
    }
   ],
   "source": [
    "from json import load as Load \n",
    "\n",
    "\n",
    "\n",
    "\n",
    "def evalu(dicti):\n",
    "    #print(\"hello\")\n",
    "    s=\"\"\n",
    "    if(type(dicti['lhs'])==dict):\n",
    "        t=evalu(dicti['lhs'])\n",
    "        s= s + ' ' + t\n",
    "    else:\n",
    "        t=str(dicti['lhs'])\n",
    "        s=s+ ' '+ t\n",
    "        \n",
    "    s=s+' '+ dicti['op']\n",
    "    \n",
    "    if(type(dicti['rhs'])==dict):\n",
    "        t=evalu(dicti['rhs'])\n",
    "        s= s + ' ' + t\n",
    "    else:\n",
    "        t=str(dicti['rhs'])\n",
    "        s=s+ ' '+ t\n",
    "    \n",
    "    return s\n",
    "        \n",
    "file=open(\"/Users/sh1v4mr4j/Desktop/data.txt\",\"r\")\n",
    "data=Load(file)\n",
    "#print(data)\n",
    "print(evalu(data))\n",
    "\n",
    "\n",
    "    \n",
    "\n",
    "\n",
    "\n",
    "\n",
    "\n",
    "\n",
    "\n",
    "\n",
    "\n"
   ]
  },
  {
   "cell_type": "code",
   "execution_count": 5,
   "metadata": {},
   "outputs": [
    {
     "ename": "ModuleNotFoundError",
     "evalue": "No module named 'pdfminer'",
     "output_type": "error",
     "traceback": [
      "\u001b[0;31m---------------------------------------------------------------------------\u001b[0m",
      "\u001b[0;31mModuleNotFoundError\u001b[0m                       Traceback (most recent call last)",
      "\u001b[0;32m<ipython-input-5-218999a1a7d7>\u001b[0m in \u001b[0;36m<module>\u001b[0;34m\u001b[0m\n\u001b[0;32m----> 1\u001b[0;31m \u001b[0;32mfrom\u001b[0m \u001b[0mpdfminer\u001b[0m\u001b[0;34m.\u001b[0m\u001b[0mpdfinterp\u001b[0m \u001b[0;32mimport\u001b[0m \u001b[0mPDFResourceManager\u001b[0m\u001b[0;34m\u001b[0m\u001b[0;34m\u001b[0m\u001b[0m\n\u001b[0m",
      "\u001b[0;31mModuleNotFoundError\u001b[0m: No module named 'pdfminer'"
     ]
    }
   ],
   "source": [
    "from pdfminer.pdfinterp import PDFResourceManager\n",
    "\n",
    "\n",
    "\n",
    "\n",
    "\n",
    "\n",
    "\n"
   ]
  },
  {
   "cell_type": "code",
   "execution_count": 46,
   "metadata": {},
   "outputs": [
    {
     "name": "stdout",
     "output_type": "stream",
     "text": [
      "Email is =  abhinavk.grd@gmail.com\n",
      "number is =  8797298558\n"
     ]
    }
   ],
   "source": [
    "from pdfminer.layout import LAParams\n",
    "from pdfminer.converter import PDFPageAggregator \n",
    "from pdfminer.pdfinterp import PDFResourceManager\n",
    "from pdfminer.pdfpage import PDFPage\n",
    "from pdfminer.layout import LTTextBoxHorizontal\n",
    "document = open('/Users/sh1v4mr4j/Downloads/Abhinav-Resume.pdf', 'rb') \n",
    "rsrcmgr = PDFResourceManager()\n",
    "laparams = LAParams()\n",
    "x=\"\"\n",
    "device = PDFPageAggregator(rsrcmgr, laparams=laparams) \n",
    "interpreter = PDFPageInterpreter(rsrcmgr, device)\n",
    "for page in PDFPage.get_pages(document):\n",
    "    interpreter.process_page(page)\n",
    "    layout = device.get_result()\n",
    "    for element in layout:\n",
    "        if isinstance(element, LTTextBoxHorizontal): \n",
    "            #print(element.get_text())\n",
    "            x=x+element.get_text()\n",
    "s=\"\"\n",
    "\n",
    "for i in range(0,len(x)-10):\n",
    "    if(x[i:i+10]==\"@gmail.com\"):\n",
    "        for j in range(i-1,0,-1):\n",
    "            if(x[j]!=\"\\n\" and x[j]!=\" \"):\n",
    "                s=x[j]+s\n",
    "            else:\n",
    "                break\n",
    "s=s+\"@gmail.com\"\n",
    "print(\"Email is = \",s)   \n",
    "\n",
    "a=x.split()\n",
    "\n",
    "\n",
    "\n",
    "\n",
    "\n",
    "\n",
    "for i in range(0,len(a)):\n",
    "    if(a[i].isdigit() and len(a[i])==10):\n",
    "        print (\"number is = \",a[i])\n",
    "        break\n",
    "    elif(a[i][1:].isdigit() and len(a[i])==12):\n",
    "        print (\"number is = \",a[i][1:])\n",
    "        break\n",
    "    \n",
    "    \n",
    "    \n",
    "    "
   ]
  },
  {
   "cell_type": "code",
   "execution_count": 6,
   "metadata": {},
   "outputs": [
    {
     "name": "stdout",
     "output_type": "stream",
     "text": [
      "Collecting pdfminer.six\n",
      "  Using cached https://files.pythonhosted.org/packages/cb/83/200b2723bcbf1d1248a8a7d16e6dd6cb970b5331397b11948428d7ebcf37/pdfminer.six-20191110-py2.py3-none-any.whl\n",
      "Requirement already satisfied: six in ./opt/anaconda3/lib/python3.7/site-packages (from pdfminer.six) (1.12.0)\n",
      "Collecting pycryptodome (from pdfminer.six)\n",
      "\u001b[?25l  Downloading https://files.pythonhosted.org/packages/cc/a6/f7e09ad45296eff20bd1db5aa14b1c9ea06826dd68eb2a7a27572c71d581/pycryptodome-3.9.4-cp37-cp37m-macosx_10_6_intel.whl (10.1MB)\n",
      "\u001b[K     |████████████████████████████████| 10.1MB 60kB/s eta 0:00:011\n",
      "\u001b[?25hRequirement already satisfied: sortedcontainers in ./opt/anaconda3/lib/python3.7/site-packages (from pdfminer.six) (2.1.0)\n",
      "Requirement already satisfied: chardet; python_version > \"3.0\" in ./opt/anaconda3/lib/python3.7/site-packages (from pdfminer.six) (3.0.4)\n",
      "Installing collected packages: pycryptodome, pdfminer.six\n",
      "Successfully installed pdfminer.six-20191110 pycryptodome-3.9.4\n",
      "Note: you may need to restart the kernel to use updated packages.\n"
     ]
    }
   ],
   "source": [
    "pip install pdfminer.six\n"
   ]
  },
  {
   "cell_type": "code",
   "execution_count": 55,
   "metadata": {},
   "outputs": [
    {
     "data": {
      "text/plain": [
       "2"
      ]
     },
     "execution_count": 55,
     "metadata": {},
     "output_type": "execute_result"
    }
   ],
   "source": [
    "\n",
    "s=[\"ibm\",\"mgm\",\"asa\",\"pa\",\"aa\"]\n",
    "c=0\n",
    "for i in range(0,len(s)):\n",
    "    if(len(s[i])>2):\n",
    "        #print(s[i][0],\" \",s[i][len(s[i])-1])\n",
    "        if(s[i][0]==s[i][len(s[i])-1]):\n",
    "            c+=1\n",
    "c\n",
    "\n",
    "\n",
    "\n"
   ]
  },
  {
   "cell_type": "code",
   "execution_count": 59,
   "metadata": {},
   "outputs": [
    {
     "data": {
      "text/plain": [
       "[11, 22, 33]"
      ]
     },
     "execution_count": 59,
     "metadata": {},
     "output_type": "execute_result"
    }
   ],
   "source": [
    "list_a = [1, 2, 3]\n",
    "list_b = [10, 20, 30]\n",
    "  \n",
    "list(map(lambda x, y: x + y, list_a, list_b))\n"
   ]
  },
  {
   "cell_type": "code",
   "execution_count": 60,
   "metadata": {},
   "outputs": [
    {
     "data": {
      "text/plain": [
       "{1: 1,\n",
       " 2: 4,\n",
       " 3: 9,\n",
       " 4: 16,\n",
       " 5: 25,\n",
       " 6: 36,\n",
       " 7: 49,\n",
       " 8: 64,\n",
       " 9: 81,\n",
       " 10: 100,\n",
       " 11: 121,\n",
       " 12: 144,\n",
       " 13: 169,\n",
       " 14: 196,\n",
       " 15: 225}"
      ]
     },
     "execution_count": 60,
     "metadata": {},
     "output_type": "execute_result"
    }
   ],
   "source": [
    "dic={}\n",
    "for i in range(1,16):\n",
    "    dic[i]=i*i\n",
    "dic"
   ]
  },
  {
   "cell_type": "code",
   "execution_count": 63,
   "metadata": {},
   "outputs": [
    {
     "data": {
      "text/plain": [
       "{1, 4, 9, 16, 25, 36, 49, 64, 81, 100, 169, 196, 225}"
      ]
     },
     "execution_count": 63,
     "metadata": {},
     "output_type": "execute_result"
    }
   ],
   "source": [
    "dic={1: 1,\n",
    " 2: 4,\n",
    " 3: 9,\n",
    " 4: 16,\n",
    " 5: 25,\n",
    " 6: 36,\n",
    " 7: 49,\n",
    " 8: 64,\n",
    " 9: 81,\n",
    " 10: 100,\n",
    " 11: 100,\n",
    " 12: 4,\n",
    " 13: 169,\n",
    " 14: 196,\n",
    " 15: 225}\n",
    "lis=[]\n",
    "for i in range(1,16):\n",
    "    lis.append(dic[i])\n",
    "set(lis)"
   ]
  },
  {
   "cell_type": "code",
   "execution_count": 64,
   "metadata": {},
   "outputs": [
    {
     "data": {
      "text/plain": [
       "'adidas pokemon shoes'"
      ]
     },
     "execution_count": 64,
     "metadata": {},
     "output_type": "execute_result"
    }
   ],
   "source": [
    "prod=[\"comb\",\"dove\",\"cool menthol\",\"socks\",\"adidas pokemon shoes\"]\n",
    "rate=[15,20,10,400,120000]\n",
    "ma=rate[0]\n",
    "loc=0\n",
    "for i in range(1,len(rate)):\n",
    "    if(rate[i]>ma):\n",
    "        loc=i\n",
    "        ma=rate[i]\n",
    "prod[loc]\n",
    "    \n"
   ]
  },
  {
   "cell_type": "code",
   "execution_count": 80,
   "metadata": {},
   "outputs": [
    {
     "ename": "UnboundLocalError",
     "evalue": "local variable 'c' referenced before assignment",
     "output_type": "error",
     "traceback": [
      "\u001b[0;31m---------------------------------------------------------------------------\u001b[0m",
      "\u001b[0;31mUnboundLocalError\u001b[0m                         Traceback (most recent call last)",
      "\u001b[0;32m<ipython-input-80-e6664059a415>\u001b[0m in \u001b[0;36m<module>\u001b[0;34m\u001b[0m\n\u001b[1;32m     15\u001b[0m \u001b[0;34m\u001b[0m\u001b[0m\n\u001b[1;32m     16\u001b[0m \u001b[0;34m\u001b[0m\u001b[0m\n\u001b[0;32m---> 17\u001b[0;31m \u001b[0mlist\u001b[0m\u001b[0;34m(\u001b[0m\u001b[0mmap\u001b[0m\u001b[0;34m(\u001b[0m\u001b[0mli\u001b[0m\u001b[0;34m,\u001b[0m\u001b[0mdic\u001b[0m\u001b[0;34m.\u001b[0m\u001b[0mitems\u001b[0m\u001b[0;34m(\u001b[0m\u001b[0;34m)\u001b[0m\u001b[0;34m)\u001b[0m\u001b[0;34m)\u001b[0m\u001b[0;34m\u001b[0m\u001b[0;34m\u001b[0m\u001b[0m\n\u001b[0m",
      "\u001b[0;32m<ipython-input-80-e6664059a415>\u001b[0m in \u001b[0;36mli\u001b[0;34m(i)\u001b[0m\n\u001b[1;32m      8\u001b[0m \u001b[0mc\u001b[0m\u001b[0;34m=\u001b[0m\u001b[0;36m0\u001b[0m\u001b[0;34m\u001b[0m\u001b[0;34m\u001b[0m\u001b[0m\n\u001b[1;32m      9\u001b[0m \u001b[0;32mdef\u001b[0m \u001b[0mli\u001b[0m\u001b[0;34m(\u001b[0m\u001b[0mi\u001b[0m\u001b[0;34m)\u001b[0m\u001b[0;34m:\u001b[0m\u001b[0;34m\u001b[0m\u001b[0;34m\u001b[0m\u001b[0m\n\u001b[0;32m---> 10\u001b[0;31m     \u001b[0mtmp\u001b[0m\u001b[0;34m=\u001b[0m\u001b[0mc\u001b[0m\u001b[0;34m\u001b[0m\u001b[0;34m\u001b[0m\u001b[0m\n\u001b[0m\u001b[1;32m     11\u001b[0m \u001b[0;34m\u001b[0m\u001b[0m\n\u001b[1;32m     12\u001b[0m     \u001b[0;32mif\u001b[0m\u001b[0;34m(\u001b[0m\u001b[0mtype\u001b[0m\u001b[0;34m(\u001b[0m\u001b[0mi\u001b[0m\u001b[0;34m[\u001b[0m\u001b[0;36m1\u001b[0m\u001b[0;34m]\u001b[0m\u001b[0;34m)\u001b[0m\u001b[0;34m==\u001b[0m\u001b[0mlist\u001b[0m\u001b[0;34m)\u001b[0m\u001b[0;34m:\u001b[0m\u001b[0;34m\u001b[0m\u001b[0;34m\u001b[0m\u001b[0m\n",
      "\u001b[0;31mUnboundLocalError\u001b[0m: local variable 'c' referenced before assignment"
     ]
    }
   ],
   "source": [
    "dic={\n",
    "    'a':['w'],\n",
    "    'b':1,\n",
    "    'cs':[3],\n",
    "    'd':[4,5],\n",
    "    'e':[0],\n",
    "}\n",
    "c=0\n",
    "def li(i):\n",
    "    tmp=c\n",
    "   \n",
    "    if(type(i[1])==list):\n",
    "        c=c+1\n",
    "    return c\n",
    "    \n",
    "    \n",
    "list(map(li,dic.items()))"
   ]
  },
  {
   "cell_type": "code",
   "execution_count": 90,
   "metadata": {},
   "outputs": [
    {
     "data": {
      "text/plain": [
       "{'a': 3.5, 'b': 1, 'cs': 3.0, 'd': 4.5, 'e': 0.0}"
      ]
     },
     "execution_count": 90,
     "metadata": {},
     "output_type": "execute_result"
    }
   ],
   "source": [
    "dic={\n",
    "    'a':[4,3],\n",
    "    'b':1,\n",
    "    'cs':[3],\n",
    "    'd':[4,5],\n",
    "    'e':[0],\n",
    "}\n",
    "def mean(ab):\n",
    "    cn=0\n",
    "    for i in range(0,len(ab)):\n",
    "        cn=cn+ab[i]\n",
    "    return cn/len(ab)\n",
    "for i,j in dic.items():\n",
    "    if(type(j)==list):\n",
    "        dic[i]=mean(j)\n",
    "        \n",
    "dic"
   ]
  },
  {
   "cell_type": "code",
   "execution_count": 91,
   "metadata": {},
   "outputs": [
    {
     "name": "stdout",
     "output_type": "stream",
     "text": [
      "enter3\n"
     ]
    },
    {
     "data": {
      "text/plain": [
       "(1, 2, 4, 4, 5, 6, 7)"
      ]
     },
     "execution_count": 91,
     "metadata": {},
     "output_type": "execute_result"
    }
   ],
   "source": [
    "tup=(1,2,3,4,4,5,6,7)\n",
    "a=int(input(\"enter\"))\n",
    "\n",
    "t=tup[:a-1] +tup[a:]\n",
    "t\n"
   ]
  },
  {
   "cell_type": "code",
   "execution_count": 93,
   "metadata": {},
   "outputs": [
    {
     "name": "stdout",
     "output_type": "stream",
     "text": [
      "mgm\n",
      "asa\n",
      "aa\n"
     ]
    }
   ],
   "source": [
    "a=[\"ibm\",\"mgm\",\"asa\",\"pa\",\"aa\"]\n",
    "for i in range(0,len(a)):\n",
    "    s=\"\"\n",
    "    for j in range(len(a[i])-1,-1,-1):\n",
    "        s=s+a[i][j]\n",
    "    if(s==a[i]):\n",
    "        print(a[i])\n"
   ]
  },
  {
   "cell_type": "code",
   "execution_count": 94,
   "metadata": {},
   "outputs": [
    {
     "name": "stdout",
     "output_type": "stream",
     "text": [
      "{1: 4, 5: 3, 3: 7}\n"
     ]
    }
   ],
   "source": [
    "a={1 :[2,3,4,5],\n",
    "   5:[1,2,3],\n",
    "   3:[1,23,4,5,6,7,3]\n",
    "  }\n",
    "dic=dict(map(lambda x:(x[0],len(x[1])),a.items()))\n",
    "print(dic)"
   ]
  },
  {
   "cell_type": "code",
   "execution_count": 107,
   "metadata": {},
   "outputs": [
    {
     "data": {
      "text/plain": [
       "{2: 2, 4: 4}"
      ]
     },
     "execution_count": 107,
     "metadata": {},
     "output_type": "execute_result"
    }
   ],
   "source": [
    "a={1:-1,\n",
    "  2:2,\n",
    "  3:-2,\n",
    "  4:4}\n",
    "\n",
    "dic=dict(filter((lambda x:(x[1]>0)),a.items()))\n",
    "dic"
   ]
  },
  {
   "cell_type": "code",
   "execution_count": 113,
   "metadata": {},
   "outputs": [
    {
     "data": {
      "text/plain": [
       "['comb', 'cool menthol']"
      ]
     },
     "execution_count": 113,
     "metadata": {},
     "output_type": "execute_result"
    }
   ],
   "source": [
    "import re\n",
    "\n",
    "prod=[\"comb\",\"dove\",\"cool menthol\",\"socks\",\"adidas pokemon shoes\"]\n",
    "dic =list(filter((lambda x: re.search(\"co\",x)),prod))\n",
    "dic\n",
    "\n"
   ]
  },
  {
   "cell_type": "code",
   "execution_count": null,
   "metadata": {},
   "outputs": [],
   "source": []
  }
 ],
 "metadata": {
  "kernelspec": {
   "display_name": "Python 3",
   "language": "python",
   "name": "python3"
  },
  "language_info": {
   "codemirror_mode": {
    "name": "ipython",
    "version": 3
   },
   "file_extension": ".py",
   "mimetype": "text/x-python",
   "name": "python",
   "nbconvert_exporter": "python",
   "pygments_lexer": "ipython3",
   "version": "3.7.4"
  }
 },
 "nbformat": 4,
 "nbformat_minor": 2
}
